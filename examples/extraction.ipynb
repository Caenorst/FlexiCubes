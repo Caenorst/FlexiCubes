{
 "cells": [
  {
   "cell_type": "markdown",
   "metadata": {},
   "source": [
    "## Mesh Extraction from a fixed Signed Distance Field (SDF)"
   ]
  },
  {
   "cell_type": "markdown",
   "metadata": {},
   "source": [
    "In this example, we demonstrate how to use FlexiCubes to extract a mesh from a fixed signed distance field (SDF) **without** optimization. Note that in this case, the extraction scheme used is the original Dual Marching Cubes [Nielson 2004] algorithm, with minor improvements in splitting. To begin with, we will establish two functions: one for calculating the SDF of a cube, and another for determining its analytic gradient. In your specific application, the SDF might be predicted by a network, with gradients computed through methods such as finite differences or autograd."
   ]
  },
  {
   "cell_type": "code",
   "execution_count": 14,
   "metadata": {},
   "outputs": [],
   "source": [
    "import torch\n",
    "import kaolin as kal\n",
    "\n",
    "import render"
   ]
  },
  {
   "cell_type": "code",
   "execution_count": 15,
   "metadata": {},
   "outputs": [],
   "source": [
    "def sphere_sdf(input_points):\n",
    "    rayon = torch.linalg.norm(input_points, dim=-1)\n",
    "    sdf_values = rayon - 0.5\n",
    "\n",
    "    return sdf_values\n",
    "\n",
    "def sphere_sdf_gradient(input_points):\n",
    "    rayon = torch.linalg.norm(input_points, dim=-1, keepdims=True)\n",
    "    return input_points / rayon\n",
    "\n",
    "def cube_sdf(x_nx3):\n",
    "    sdf_values = 0.5 - torch.abs(x_nx3)\n",
    "    sdf_values = torch.clamp(sdf_values, min=0.0)\n",
    "    sdf_values = sdf_values[:, 0] * sdf_values[:, 1] * sdf_values[:, 2]\n",
    "    sdf_values = -1.0 * sdf_values\n",
    "\n",
    "    return sdf_values\n",
    "\n",
    "\n",
    "def cube_sdf_gradient(x_nx3):\n",
    "    gradients = []\n",
    "    for i in range(x_nx3.shape[0]):\n",
    "        x, y, z = x_nx3[i]\n",
    "        grad_x, grad_y, grad_z = 0, 0, 0\n",
    "\n",
    "        max_val = max(abs(x) - 0.5, abs(y) - 0.5, abs(z) - 0.5)\n",
    "\n",
    "        if max_val == abs(x) - 0.5:\n",
    "            grad_x = 1.0 if x > 0 else -1.0\n",
    "        if max_val == abs(y) - 0.5:\n",
    "            grad_y = 1.0 if y > 0 else -1.0\n",
    "        if max_val == abs(z) - 0.5:\n",
    "            grad_z = 1.0 if z > 0 else -1.0\n",
    "\n",
    "        gradients.append(torch.tensor([grad_x, grad_y, grad_z]))\n",
    "\n",
    "    return torch.stack(gradients).to(x_nx3.device)"
   ]
  },
  {
   "cell_type": "markdown",
   "metadata": {},
   "source": [
    "Next, let's call upon FlexiCubes to extract the mesh from this SDF, both with and without providing the gradient information."
   ]
  },
  {
   "cell_type": "code",
   "execution_count": 16,
   "metadata": {},
   "outputs": [],
   "source": [
    "res = 32\n",
    "device='cuda'\n",
    "fc = kal.non_commercial.FlexiCubes(device)\n",
    "voxelgrid_vertices, cube_idx = fc.construct_voxel_grid(res)\n",
    "voxelgrid_vertices *= 1.1 # add small margin to boundary\n",
    "scalar_field = cube_sdf(voxelgrid_vertices)\n",
    "\n",
    "mesh_with_grad_v, mesh_with_grad_f, _ = fc(\n",
    "    voxelgrid_vertices, scalar_field, cube_idx, res, grad_func=cube_sdf_gradient)\n",
    "mesh_with_grad = kal.rep.SurfaceMesh(vertices=mesh_with_grad_v, faces=mesh_with_grad_f)\n",
    "mesh_no_grad_v, mesh_no_grad_f, _ = fc(\n",
    "    voxelgrid_vertices, scalar_field, cube_idx, res)\n",
    "mesh_no_grad = kal.rep.SurfaceMesh(vertices=mesh_no_grad_v, faces=mesh_no_grad_f)"
   ]
  },
  {
   "cell_type": "code",
   "execution_count": 18,
   "metadata": {},
   "outputs": [],
   "source": [
    "camera = render.get_rotate_camera(0, iter_res=[512, 512], device=device)"
   ]
  },
  {
   "cell_type": "markdown",
   "metadata": {},
   "source": [
    "Now we visualize the two meshes. Without the gradient information (left), the extracted vertex locations are positioned at the centroids of the primal (Marching Cubes) mesh. Consequently, this method fails to reconstruct the sharp features present in the cube."
   ]
  },
  {
   "cell_type": "code",
   "execution_count": 19,
   "metadata": {},
   "outputs": [
    {
     "data": {
      "application/vnd.jupyter.widget-view+json": {
       "model_id": "b91ff6a4c5844de181ef859aa6bd8080",
       "version_major": 2,
       "version_minor": 0
      },
      "text/plain": [
       "VBox(children=(Canvas(height=512, width=1024), interactive(children=(FloatLogSlider(value=0.3981071705534972, …"
      ]
     },
     "metadata": {},
     "output_type": "display_data"
    },
    {
     "data": {
      "application/vnd.jupyter.widget-view+json": {
       "model_id": "5b785bcec6824d13a9247a530bb2f9a0",
       "version_major": 2,
       "version_minor": 0
      },
      "text/plain": [
       "Output()"
      ]
     },
     "metadata": {},
     "output_type": "display_data"
    }
   ],
   "source": [
    "render.SplitVisualizer(mesh_no_grad, mesh_with_grad, 512, 512).show(camera)"
   ]
  }
 ],
 "metadata": {
  "kernelspec": {
   "display_name": "Python 3 (ipykernel)",
   "language": "python",
   "name": "python3"
  },
  "language_info": {
   "codemirror_mode": {
    "name": "ipython",
    "version": 3
   },
   "file_extension": ".py",
   "mimetype": "text/x-python",
   "name": "python",
   "nbconvert_exporter": "python",
   "pygments_lexer": "ipython3",
   "version": "3.9.18"
  }
 },
 "nbformat": 4,
 "nbformat_minor": 4
}
