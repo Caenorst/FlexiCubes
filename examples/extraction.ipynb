{
 "cells": [
  {
   "cell_type": "markdown",
   "metadata": {},
   "source": [
    "## Mesh Extraction from a fixed Signed Distance Field (SDF)"
   ]
  },
  {
   "cell_type": "markdown",
   "metadata": {},
   "source": [
    "In this example, we demonstrate how to use FlexiCubes to extract a mesh from a fixed signed distance field (SDF) **without** optimization. Note that in this case, the extraction scheme used is the original Dual Marching Cubes [Nielson 2004] algorithm, with minor improvements in splitting. To begin with, we will establish two functions: one for calculating the SDF of a cube, and another for determining its analytic gradient. In your specific application, the SDF might be predicted by a network, with gradients computed through methods such as finite differences or autograd."
   ]
  },
  {
   "cell_type": "code",
   "execution_count": 1,
   "metadata": {},
   "outputs": [
    {
     "name": "stderr",
     "output_type": "stream",
     "text": [
      "/home/frshen/anaconda3/envs/flexicubes/lib/python3.9/site-packages/tqdm/auto.py:21: TqdmWarning: IProgress not found. Please update jupyter and ipywidgets. See https://ipywidgets.readthedocs.io/en/stable/user_install.html\n",
      "  from .autonotebook import tqdm as notebook_tqdm\n"
     ]
    }
   ],
   "source": [
    "import torch\n",
    "\n",
    "def cube_sdf(x_nx3):\n",
    "    sdf_values = 0.5 - torch.abs(x_nx3)\n",
    "    sdf_values = torch.clamp(sdf_values, min=0.0)\n",
    "    sdf_values = sdf_values[:, 0] * sdf_values[:, 1] * sdf_values[:, 2]\n",
    "    sdf_values = -1.0 * sdf_values\n",
    "\n",
    "    return sdf_values.view(-1, 1)\n",
    "\n",
    "\n",
    "def cube_sdf_gradient(x_nx3):\n",
    "    gradients = []\n",
    "    for i in range(x_nx3.shape[0]):\n",
    "        x, y, z = x_nx3[i]\n",
    "        grad_x, grad_y, grad_z = 0, 0, 0\n",
    "\n",
    "        max_val = max(abs(x) - 0.5, abs(y) - 0.5, abs(z) - 0.5)\n",
    "\n",
    "        if max_val == abs(x) - 0.5:\n",
    "            grad_x = 1.0 if x > 0 else -1.0\n",
    "        if max_val == abs(y) - 0.5:\n",
    "            grad_y = 1.0 if y > 0 else -1.0\n",
    "        if max_val == abs(z) - 0.5:\n",
    "            grad_z = 1.0 if z > 0 else -1.0\n",
    "\n",
    "        gradients.append(torch.tensor([grad_x, grad_y, grad_z]))\n",
    "\n",
    "    return torch.stack(gradients).to(x_nx3.device)"
   ]
  },
  {
   "cell_type": "markdown",
   "metadata": {},
   "source": [
    "Next, let's call upon FlexiCubes to extract the mesh from this SDF, both with and without providing the gradient information."
   ]
  },
  {
   "cell_type": "code",
   "execution_count": 2,
   "metadata": {},
   "outputs": [],
   "source": [
    "import sys\n",
    "sys.path.append('..')\n",
    "from flexicubes import FlexiCubes\n",
    "from util import *\n",
    "res = 16\n",
    "device='cuda'\n",
    "fc = FlexiCubes(device)\n",
    "x_nx3, cube_fx8 = fc.construct_voxel_grid(res)\n",
    "x_nx3 *= 1.1 # add small margin to boundary\n",
    "sdf_n = cube_sdf(x_nx3)\n",
    "mesh_with_grad_v, mesh_with_grad_f, _ = fc(x_nx3, sdf_n, cube_fx8, res, grad_func=cube_sdf_gradient)\n",
    "mesh_no_grad_v, mesh_no_grad_f, _ = fc(x_nx3, sdf_n, cube_fx8, res)"
   ]
  },
  {
   "cell_type": "markdown",
   "metadata": {},
   "source": [
    "Now we visualize the two meshes. Without the gradient information, the extracted vertex locations are positioned at the centroids of the primal (Marching Cubes) mesh. Consequently, this method fails to reconstruct the sharp features present in the cube."
   ]
  },
  {
   "cell_type": "code",
   "execution_count": 3,
   "metadata": {},
   "outputs": [
    {
     "data": {
      "image/png": "[encoded data removed]",
      "text/plain": [
       "<Figure size 640x480 with 1 Axes>"
      ]
     },
     "metadata": {},
     "output_type": "display_data"
    }
   ],
   "source": [
    "import render\n",
    "import numpy as np\n",
    "import matplotlib.pyplot as plt\n",
    "\n",
    "mesh_no_grad = Mesh(mesh_no_grad_v, mesh_no_grad_f)\n",
    "mesh_no_grad.auto_normals()\n",
    "mv, mvp = render.get_rotate_camera(0, iter_res=[512,512], device=device)\n",
    "val_buffers = render.render_mesh(mesh_no_grad, mv.unsqueeze(0), mvp.unsqueeze(0), [512,512], return_types=[\"normal\"])\n",
    "val_image = ((val_buffers[\"normal\"][0].detach().cpu().numpy()+1)/2*255).astype(np.uint8)\n",
    "plt.imshow(val_image)\n",
    "plt.axis('off')\n",
    "plt.show()"
   ]
  },
  {
   "cell_type": "markdown",
   "metadata": {},
   "source": [
    "With the gradient function provided, the vertex location is defined as the minimizer of a Quadratic Error Function (QEF), akin to Dual Contouring [Schaefer et al. 2007], which preserves the sharp features. Unlike the approach in the original paper, when splitting the quadrilateral faces into triangles, we choose to split along the diagonal with a consistent gradient. This adjustment effectively reduces the visual artifacts in curved regions."
   ]
  },
  {
   "cell_type": "code",
   "execution_count": 4,
   "metadata": {},
   "outputs": [
    {
     "data": {
      "image/png": "[encoded data removed]",
      "text/plain": [
       "<Figure size 640x480 with 1 Axes>"
      ]
     },
     "metadata": {},
     "output_type": "display_data"
    }
   ],
   "source": [
    "mesh_with_grad = Mesh(mesh_with_grad_v, mesh_with_grad_f)\n",
    "mesh_with_grad.auto_normals()\n",
    "mv, mvp = render.get_rotate_camera(0, iter_res=[512,512], device=device)\n",
    "val_buffers = render.render_mesh(mesh_with_grad, mv.unsqueeze(0), mvp.unsqueeze(0), [512,512], return_types=[\"normal\"])\n",
    "val_image = ((val_buffers[\"normal\"][0].detach().cpu().numpy()+1)/2*255).astype(np.uint8)\n",
    "plt.imshow(val_image)\n",
    "plt.axis('off')\n",
    "plt.show()"
   ]
  }
 ],
 "metadata": {
  "kernelspec": {
   "display_name": "nvdiffrec",
   "language": "python",
   "name": "python3"
  },
  "language_info": {
   "codemirror_mode": {
    "name": "ipython",
    "version": 3
   },
   "file_extension": ".py",
   "mimetype": "text/x-python",
   "name": "python",
   "nbconvert_exporter": "python",
   "pygments_lexer": "ipython3",
   "version": "3.9.17"
  },
  "orig_nbformat": 4
 },
 "nbformat": 4,
 "nbformat_minor": 2
}
